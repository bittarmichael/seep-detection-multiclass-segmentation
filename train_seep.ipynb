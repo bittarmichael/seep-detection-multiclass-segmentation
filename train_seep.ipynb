{
 "cells": [
  {
   "cell_type": "code",
   "execution_count": 1,
   "id": "fdeaad75-63bd-455f-9cd4-ed855c7daa75",
   "metadata": {},
   "outputs": [
    {
     "name": "stderr",
     "output_type": "stream",
     "text": [
      "\n",
      "KeyboardInterrupt\n",
      "\n"
     ]
    }
   ],
   "source": [
    "import os\n",
    "import matplotlib.pyplot as plt\n",
    "import numpy as np\n",
    "from tqdm.notebook import tqdm\n",
    "\n",
    "import torch\n",
    "import torch.nn as nn\n",
    "import torch.optim as optim\n",
    "import torch.nn.functional as F\n",
    "from torch.utils.data import DataLoader, random_split\n",
    "from torchsummary import summary\n",
    "from torch.utils.tensorboard import SummaryWriter\n",
    "\n",
    "from unet_model import UNet\n",
    "from seep_dataset import SeepImageDataset\n",
    "from utils import ImageHelperFunctions, ImageTransformFunctions"
   ]
  },
  {
   "cell_type": "code",
   "execution_count": null,
   "id": "adce3d89-5c0f-4ce4-8fc4-753706832583",
   "metadata": {
    "tags": []
   },
   "outputs": [],
   "source": [
    "IMAGE_DIR = \"./seep_detection/images_256/\"\n",
    "MASK_DIR = \"./seep_detection/masks_256/\"\n",
    "\n",
    "NUM_CLASSES = 8\n",
    "NUM_CHANNELS = 1\n",
    "BATCH_SIZE = 8\n",
    "N_EPOCHS = 400\n",
    "LR = 1e-2\n",
    "PATIENCE = 50\n",
    "class_weights = [1, 20, 40, 40, 40, 20, 20, 80]\n",
    "\n",
    "TRAIN = True\n",
    "SUMMARY_WRITER_NAME = f\"FocalLoss_{str(class_weights)}_lr={str(LR)}_batch_size={str(BATCH_SIZE)}_p={str(PATIENCE)}\""
   ]
  },
  {
   "cell_type": "code",
   "execution_count": null,
   "id": "98c426ac-dcd4-4b2a-83a0-f4f15a0d521c",
   "metadata": {},
   "outputs": [],
   "source": [
    "device = torch.device(\"cuda\" if torch.cuda.is_available() else \"cpu\")\n",
    "device"
   ]
  },
  {
   "cell_type": "code",
   "execution_count": null,
   "id": "ec58f3d3-5f25-46ed-8703-adf9bc133371",
   "metadata": {},
   "outputs": [],
   "source": [
    "helper = ImageHelperFunctions()\n",
    "list_img_paths = helper.list_files_in_dir(IMAGE_DIR, '.tif')\n",
    "list_mask_paths = helper.list_files_in_dir(MASK_DIR, '.tif')\n",
    "\n",
    "images = [np.array(helper.read_image(image)) for image in list_img_paths]\n",
    "# mu, std = ImageHelperFunctions.find_mu_and_std(images)\n",
    "# print(mu, std)\n",
    "\n",
    "masks = [np.array(helper.read_image(mask)) for mask in list_mask_paths]\n",
    "classes, counts = helper.count_classes_in_arr(masks, show=True)\n",
    "\n",
    "# There shows a huge inbalance between the classes\n",
    "# Class 0 is the background, so we remove it from the plot\n",
    "\n",
    "# class_weights = [(sum(counts) / (c)) for c in counts]\n",
    "# class_weights = torch.tensor(class_weights)\n",
    "# print(class_weights)\n",
    "\n",
    "class_weights = torch.FloatTensor(class_weights)\n",
    "class_weights = class_weights.to(device)\n",
    "\n",
    "# My solution was to just to manually put in some weights sort of like a hyper-parameter.\n",
    "# I will be passing it as a parameter in the loss function."
   ]
  },
  {
   "cell_type": "code",
   "execution_count": null,
   "id": "e1388edf-3919-45d8-904c-ff46f99cd3fb",
   "metadata": {},
   "outputs": [],
   "source": [
    "transform = ImageTransformFunctions()\n",
    "\n",
    "for i in range(5):\n",
    "    image = helper.read_image(list_img_paths[i])\n",
    "    mask = helper.read_mask(list_mask_paths[i])\n",
    "    mask_to_pal = transform.mask_to_palette(mask)\n",
    "    helper.preview_images((image, mask, mask_to_pal))\n",
    "    \n",
    "helper.image_properties(image)\n",
    "helper.image_properties(mask)"
   ]
  },
  {
   "cell_type": "code",
   "execution_count": null,
   "id": "7c7af5ad-7e7e-4414-a9dc-f7f9781be233",
   "metadata": {},
   "outputs": [],
   "source": [
    "dataset = SeepImageDataset(IMAGE_DIR, MASK_DIR)\n",
    "n_test = int(np.floor(0.1 * len(dataset)))\n",
    "n_train = len(dataset) - n_test\n",
    "\n",
    "train_ds, test_ds = random_split(dataset, [n_train, n_test])"
   ]
  },
  {
   "cell_type": "code",
   "execution_count": null,
   "id": "5e905d59-1650-492a-bb7d-24f14484d6a4",
   "metadata": {
    "tags": []
   },
   "outputs": [],
   "source": [
    "train_loader = DataLoader(\n",
    "    dataset = train_ds,\n",
    "    batch_size = BATCH_SIZE,\n",
    "    shuffle = True\n",
    ")\n",
    "\n",
    "test_loader = DataLoader(\n",
    "    dataset = test_ds,\n",
    "    batch_size = BATCH_SIZE,\n",
    "    shuffle = True\n",
    ")\n",
    "\n",
    "x, y = next(iter(train_loader))\n",
    "print(x[0], x.shape, y.shape)\n",
    "\n",
    "mu, std = helper.find_mu_and_std(train_loader)\n",
    "print(mu, std)"
   ]
  },
  {
   "cell_type": "code",
   "execution_count": null,
   "id": "b9cb11d8-d5a4-4ac2-87fe-0e11db52a81c",
   "metadata": {},
   "outputs": [],
   "source": [
    "image, mask = next(iter(train_ds))\n",
    "\n",
    "print(type(image), image.shape)\n",
    "image = image.numpy()\n",
    "print(image.min(), image.max(), image.std(), image.mean())\n",
    "image = np.squeeze(image)\n",
    "print(image.shape)\n",
    "print('-----')\n",
    "\n",
    "print(type(mask), mask.shape)\n",
    "mask = mask.numpy()\n",
    "print(mask.shape)\n",
    "mask = np.squeeze(mask)\n",
    "print(mask.min(), mask.max(), mask.std(), mask.mean())\n",
    "\n",
    "helper.preview_images((image, mask))"
   ]
  },
  {
   "cell_type": "markdown",
   "id": "9bc04fa7-d8bf-45df-8d4d-2b9bddab4adb",
   "metadata": {},
   "source": [
    "# TRAINING"
   ]
  },
  {
   "cell_type": "code",
   "execution_count": null,
   "id": "77b172f5-8d7e-472b-b4df-15274aa39346",
   "metadata": {},
   "outputs": [],
   "source": [
    "model = UNet(NUM_CHANNELS, NUM_CLASSES).to(device)"
   ]
  },
  {
   "cell_type": "code",
   "execution_count": null,
   "id": "d7c930f0-73c4-434d-9d16-53a66b7c73d9",
   "metadata": {},
   "outputs": [],
   "source": [
    "class FocalLoss(nn.modules.loss._WeightedLoss):\n",
    "    def __init__(self, weight=None, gamma=2,reduction='mean'):\n",
    "        super(FocalLoss, self).__init__(weight,reduction=reduction)\n",
    "        self.gamma = gamma\n",
    "        self.weight = weight #weight parameter will act as the alpha parameter to balance class weights\n",
    "\n",
    "    def forward(self, input, target):\n",
    "\n",
    "        ce_loss = F.cross_entropy(input, target,reduction=self.reduction,weight=self.weight)\n",
    "        pt = torch.exp(-ce_loss)\n",
    "        focal_loss = ((1 - pt) ** self.gamma * ce_loss).mean()\n",
    "        return focal_loss"
   ]
  },
  {
   "cell_type": "code",
   "execution_count": null,
   "id": "a6b7726d-7208-4118-bf09-f8607b838398",
   "metadata": {},
   "outputs": [],
   "source": [
    "def train_overfit_single_batch(train_loader, model, loss_fn, opt, n_epochs=N_EPOCHS, lr=LR, patience=PATIENCE):\n",
    "    x, y = next(iter(train_loader))\n",
    "    for epoch in tqdm(range(n_epochs)):\n",
    "        model.train()\n",
    "        x = x.to(device)\n",
    "        targets = y.to(device)\n",
    "        \n",
    "        preds = model(x)\n",
    "        \n",
    "        loss = loss_fn(preds, targets)\n",
    "        print(f\"epoch: {epoch}, loss: {loss.item()}\")\n",
    "        \n",
    "        opt.zero_grad()\n",
    "        loss.backward()\n",
    "        \n",
    "        opt.step()"
   ]
  },
  {
   "cell_type": "code",
   "execution_count": null,
   "id": "0a1bf1f1-4e04-4936-84c8-d432034a4c77",
   "metadata": {},
   "outputs": [],
   "source": [
    "def train(train_loader, val_loader, model, loss_fn, opt, n_epochs=N_EPOCHS, lr=LR, batch_size=BATCH_SIZE, patience=PATIENCE, fn=SUMMARY_WRITER_NAME, counter=0):\n",
    "    writer = SummaryWriter(f\"./runs/{fn}\")\n",
    "\n",
    "    best_val_loss = float(\"inf\")\n",
    "    \n",
    "    total_steps = 0\n",
    "    total_loss = 0\n",
    "    total_val_loss = 0\n",
    "    for epoch in tqdm(range(n_epochs)):\n",
    "        model.train()\n",
    "        for x, y in train_loader:\n",
    "            x = x.to(device)\n",
    "            targets = y.to(device)   \n",
    "                   \n",
    "            preds = model(x)\n",
    "            \n",
    "            loss = loss_fn(preds, targets)\n",
    "            \n",
    "            opt.zero_grad()\n",
    "            loss.backward()\n",
    "            \n",
    "            opt.step()\n",
    "            total_loss = total_loss + loss.item()\n",
    "            \n",
    "        total_steps += batch_size\n",
    "        avg_train_loss = total_loss / len(train_loader)\n",
    "        writer.add_scalar('train_loss', avg_train_loss, total_steps)\n",
    "        print(f\"epoch {epoch} loss {avg_train_loss}\")\n",
    "        \n",
    "        if epoch % 10 == 0:\n",
    "            model.eval()\n",
    "            with torch.no_grad():\n",
    "                for x, y in val_loader:\n",
    "                    x = x.to(device)\n",
    "                    targets = y.to(device)\n",
    "                    \n",
    "                    preds = model(x)\n",
    "                    \n",
    "                    val_loss = loss_fn(preds, targets)\n",
    "                    \n",
    "                    total_val_loss = total_val_loss + val_loss.item()\n",
    "            \n",
    "            avg_val_loss = total_val_loss / len(val_loader)\n",
    "            writer.add_scalar('val_loss', avg_val_loss, total_steps)\n",
    "            print(f\"epoch {epoch}, val_loss: {avg_val_loss}\")\n",
    "            \n",
    "            if avg_val_loss <= best_val_loss:\n",
    "                best_val_loss = avg_val_loss\n",
    "                torch.save(model.state_dict(), f\"./models/{fn}\")\n",
    "            else:\n",
    "                counter = counter + 1\n",
    "                if counter >= patience:\n",
    "                    break\n",
    "                    \n",
    "        total_loss = 0\n",
    "        total_val_loss = 0\n",
    "                \n",
    "    writer.close()"
   ]
  },
  {
   "cell_type": "code",
   "execution_count": null,
   "id": "de4b58be-b84c-4d60-b3e2-3e8972c6471e",
   "metadata": {},
   "outputs": [],
   "source": [
    "if TRAIN:\n",
    "   # loss_fn = nn.CrossEntropyLoss(weight=class_weights)\n",
    "    loss_fn = FocalLoss(weight=class_weights)\n",
    "    opt = optim.Adam(model.parameters(), lr=LR)\n",
    "    \n",
    "    train_overfit_single_batch(train_loader, model, loss_fn, opt, n_epochs=20, lr=LR, patience=PATIENCE)\n",
    "    train(train_loader, test_loader, model, loss_fn, opt)"
   ]
  }
 ],
 "metadata": {
  "kernelspec": {
   "display_name": "Python 3 (ipykernel)",
   "language": "python",
   "name": "python3"
  },
  "language_info": {
   "codemirror_mode": {
    "name": "ipython",
    "version": 3
   },
   "file_extension": ".py",
   "mimetype": "text/x-python",
   "name": "python",
   "nbconvert_exporter": "python",
   "pygments_lexer": "ipython3",
   "version": "3.9.10"
  }
 },
 "nbformat": 4,
 "nbformat_minor": 5
}
